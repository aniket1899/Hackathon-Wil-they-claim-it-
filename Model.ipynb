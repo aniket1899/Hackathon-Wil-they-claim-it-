{
 "cells": [
  {
   "cell_type": "code",
   "execution_count": 1,
   "metadata": {},
   "outputs": [],
   "source": [
    "#importing libraries\n",
    "import pandas as pd\n",
    "import numpy as np\n",
    "import matplotlib.pyplot as plt\n",
    "import seaborn as sns"
   ]
  },
  {
   "cell_type": "code",
   "execution_count": 2,
   "metadata": {},
   "outputs": [],
   "source": [
    "#reading our traning dataset\n",
    "df = pd.read_csv(\"train.csv\")"
   ]
  },
  {
   "cell_type": "code",
   "execution_count": 3,
   "metadata": {},
   "outputs": [],
   "source": [
    "#changing column headers for simplicity \n",
    "lower = lambda x:x.lower()\n",
    "under = lambda x:x.replace(\" \",\"_\")\n",
    "df.columns = df.columns.map(lower)\n",
    "df.columns = df.columns.map(under)"
   ]
  },
  {
   "cell_type": "code",
   "execution_count": 4,
   "metadata": {},
   "outputs": [
    {
     "data": {
      "text/html": [
       "<div>\n",
       "<style scoped>\n",
       "    .dataframe tbody tr th:only-of-type {\n",
       "        vertical-align: middle;\n",
       "    }\n",
       "\n",
       "    .dataframe tbody tr th {\n",
       "        vertical-align: top;\n",
       "    }\n",
       "\n",
       "    .dataframe thead th {\n",
       "        text-align: right;\n",
       "    }\n",
       "</style>\n",
       "<table border=\"1\" class=\"dataframe\">\n",
       "  <thead>\n",
       "    <tr style=\"text-align: right;\">\n",
       "      <th></th>\n",
       "      <th>id</th>\n",
       "      <th>agency</th>\n",
       "      <th>agency_type</th>\n",
       "      <th>distribution_channel</th>\n",
       "      <th>product_name</th>\n",
       "      <th>duration</th>\n",
       "      <th>destination</th>\n",
       "      <th>net_sales</th>\n",
       "      <th>commision_(in_value)</th>\n",
       "      <th>age</th>\n",
       "      <th>claim</th>\n",
       "    </tr>\n",
       "  </thead>\n",
       "  <tbody>\n",
       "    <tr>\n",
       "      <th>0</th>\n",
       "      <td>2010</td>\n",
       "      <td>EPX</td>\n",
       "      <td>Travel Agency</td>\n",
       "      <td>Online</td>\n",
       "      <td>Cancellation Plan</td>\n",
       "      <td>61</td>\n",
       "      <td>PHILIPPINES</td>\n",
       "      <td>12.0</td>\n",
       "      <td>0.00</td>\n",
       "      <td>41</td>\n",
       "      <td>0</td>\n",
       "    </tr>\n",
       "    <tr>\n",
       "      <th>1</th>\n",
       "      <td>4245</td>\n",
       "      <td>EPX</td>\n",
       "      <td>Travel Agency</td>\n",
       "      <td>Online</td>\n",
       "      <td>Cancellation Plan</td>\n",
       "      <td>4</td>\n",
       "      <td>MALAYSIA</td>\n",
       "      <td>17.0</td>\n",
       "      <td>0.00</td>\n",
       "      <td>35</td>\n",
       "      <td>0</td>\n",
       "    </tr>\n",
       "    <tr>\n",
       "      <th>2</th>\n",
       "      <td>9251</td>\n",
       "      <td>CWT</td>\n",
       "      <td>Travel Agency</td>\n",
       "      <td>Online</td>\n",
       "      <td>Rental Vehicle Excess Insurance</td>\n",
       "      <td>26</td>\n",
       "      <td>THAILAND</td>\n",
       "      <td>19.8</td>\n",
       "      <td>11.88</td>\n",
       "      <td>47</td>\n",
       "      <td>0</td>\n",
       "    </tr>\n",
       "    <tr>\n",
       "      <th>3</th>\n",
       "      <td>4754</td>\n",
       "      <td>EPX</td>\n",
       "      <td>Travel Agency</td>\n",
       "      <td>Online</td>\n",
       "      <td>2 way Comprehensive Plan</td>\n",
       "      <td>15</td>\n",
       "      <td>HONG KONG</td>\n",
       "      <td>27.0</td>\n",
       "      <td>0.00</td>\n",
       "      <td>48</td>\n",
       "      <td>0</td>\n",
       "    </tr>\n",
       "    <tr>\n",
       "      <th>4</th>\n",
       "      <td>8840</td>\n",
       "      <td>EPX</td>\n",
       "      <td>Travel Agency</td>\n",
       "      <td>Online</td>\n",
       "      <td>2 way Comprehensive Plan</td>\n",
       "      <td>15</td>\n",
       "      <td>MALAYSIA</td>\n",
       "      <td>37.0</td>\n",
       "      <td>0.00</td>\n",
       "      <td>36</td>\n",
       "      <td>0</td>\n",
       "    </tr>\n",
       "  </tbody>\n",
       "</table>\n",
       "</div>"
      ],
      "text/plain": [
       "     id agency    agency_type distribution_channel  \\\n",
       "0  2010    EPX  Travel Agency               Online   \n",
       "1  4245    EPX  Travel Agency               Online   \n",
       "2  9251    CWT  Travel Agency               Online   \n",
       "3  4754    EPX  Travel Agency               Online   \n",
       "4  8840    EPX  Travel Agency               Online   \n",
       "\n",
       "                      product_name  duration  destination  net_sales  \\\n",
       "0                Cancellation Plan        61  PHILIPPINES       12.0   \n",
       "1                Cancellation Plan         4     MALAYSIA       17.0   \n",
       "2  Rental Vehicle Excess Insurance        26     THAILAND       19.8   \n",
       "3         2 way Comprehensive Plan        15    HONG KONG       27.0   \n",
       "4         2 way Comprehensive Plan        15     MALAYSIA       37.0   \n",
       "\n",
       "   commision_(in_value)  age  claim  \n",
       "0                  0.00   41      0  \n",
       "1                  0.00   35      0  \n",
       "2                 11.88   47      0  \n",
       "3                  0.00   48      0  \n",
       "4                  0.00   36      0  "
      ]
     },
     "execution_count": 4,
     "metadata": {},
     "output_type": "execute_result"
    }
   ],
   "source": [
    "df.head()"
   ]
  },
  {
   "cell_type": "code",
   "execution_count": 5,
   "metadata": {},
   "outputs": [],
   "source": [
    "df.drop(\"id\", axis=1, inplace=True)"
   ]
  },
  {
   "cell_type": "code",
   "execution_count": 6,
   "metadata": {},
   "outputs": [
    {
     "name": "stdout",
     "output_type": "stream",
     "text": [
      "EPX    26218\n",
      "C2B    10615\n",
      "CWT     6813\n",
      "JZI     4619\n",
      "LWC      806\n",
      "SSI      780\n",
      "JWT      550\n",
      "RAB      527\n",
      "TST      394\n",
      "KML      313\n",
      "ART      223\n",
      "CCR      156\n",
      "TTW      104\n",
      "CBH       76\n",
      "CSR       60\n",
      "ADM       56\n",
      "Name: agency, dtype: int64\n",
      "-------------------------\n",
      "Travel Agency    34996\n",
      "Airlines         17314\n",
      "Name: agency_type, dtype: int64\n",
      "-------------------------\n",
      "Online     51419\n",
      "Offline      891\n",
      "Name: distribution_channel, dtype: int64\n",
      "-------------------------\n",
      "Cancellation Plan                       13254\n",
      "2 way Comprehensive Plan                10555\n",
      "Rental Vehicle Excess Insurance          6813\n",
      "Bronze Plan                              4723\n",
      "Basic Plan                               4042\n",
      "Silver Plan                              2862\n",
      "1 way Comprehensive Plan                 2409\n",
      "Annual Silver Plan                       2348\n",
      "Value Plan                               1961\n",
      "Ticket Protector                          780\n",
      "Travel Cruise Protect                     394\n",
      "Gold Plan                                 380\n",
      "Annual Gold Plan                          295\n",
      "Comprehensive Plan                        278\n",
      "Single Trip Travel Protect Gold           251\n",
      "Annual Travel Protect Gold                183\n",
      "24 Protect                                165\n",
      "Premier Plan                              141\n",
      "Single Trip Travel Protect Silver         130\n",
      "Single Trip Travel Protect Platinum       100\n",
      "Annual Travel Protect Silver               92\n",
      "Individual Comprehensive Plan              84\n",
      "Annual Travel Protect Platinum             50\n",
      "Spouse or Parents Comprehensive Plan       12\n",
      "Child Comprehensive Plan                    8\n",
      "Name: product_name, dtype: int64\n",
      "-------------------------\n",
      "5       1623\n",
      "6       1613\n",
      "8       1548\n",
      "7       1528\n",
      "10      1504\n",
      "        ... \n",
      "434        1\n",
      "529        1\n",
      "497        1\n",
      "4580       1\n",
      "436        1\n",
      "Name: duration, Length: 439, dtype: int64\n",
      "-------------------------\n",
      "SINGAPORE       14242\n",
      "THAILAND         4562\n",
      "MALAYSIA         4359\n",
      "CHINA            3909\n",
      "AUSTRALIA        3011\n",
      "                ...  \n",
      "BERMUDA             2\n",
      "BELARUS             2\n",
      "BHUTAN              2\n",
      "TURKMENISTAN        1\n",
      "ZAMBIA              1\n",
      "Name: destination, Length: 97, dtype: int64\n",
      "-------------------------\n",
      "20.000000    4245\n",
      "10.000000    3320\n",
      "22.000000    1640\n",
      "0.000000     1337\n",
      "18.000000    1163\n",
      "             ... \n",
      "53.259105       1\n",
      "47.907555       1\n",
      "10.602174       1\n",
      "19.291379       1\n",
      "93.407102       1\n",
      "Name: net_sales, Length: 6700, dtype: int64\n",
      "-------------------------\n",
      "0.000000     26260\n",
      "7.700000      1150\n",
      "17.820000     1142\n",
      "23.760000      953\n",
      "54.000000      835\n",
      "             ...  \n",
      "1.530000         1\n",
      "18.122231        1\n",
      "16.960193        1\n",
      "8.084330         1\n",
      "41.050309        1\n",
      "Name: commision_(in_value), Length: 5101, dtype: int64\n",
      "-------------------------\n",
      "36    17979\n",
      "31     2284\n",
      "35     1985\n",
      "48     1823\n",
      "30     1371\n",
      "      ...  \n",
      "4         1\n",
      "96        1\n",
      "92        1\n",
      "94        1\n",
      "2         1\n",
      "Name: age, Length: 99, dtype: int64\n",
      "-------------------------\n",
      "0    43590\n",
      "1     8720\n",
      "Name: claim, dtype: int64\n",
      "-------------------------\n"
     ]
    }
   ],
   "source": [
    "#Quick method done to check which columns are categorical number of categories they have.\n",
    "for col in df.columns:\n",
    "    print(df[col].value_counts())\n",
    "    print(\"-\"*25)"
   ]
  },
  {
   "cell_type": "code",
   "execution_count": 7,
   "metadata": {},
   "outputs": [],
   "source": [
    "#dividing column headers to two different lists so they can be used while looping.\n",
    "cat_col = [\"agency\",\"agency_type\",\"distribution_channel\",\"product_name\",\"destination\",\"claim\"]\n",
    "num_col = [col for col in df.columns if col not in cat_col]"
   ]
  },
  {
   "cell_type": "code",
   "execution_count": 8,
   "metadata": {},
   "outputs": [],
   "source": [
    "#removing negative values duration has \n",
    "df = df[df.duration>0]"
   ]
  },
  {
   "cell_type": "markdown",
   "metadata": {},
   "source": [
    "### Agency and Product_name columns are categorical but have large number of unique categories so those categories were sorted with respect to their counts and top few categories were retained and rest were replaced by \"other\"."
   ]
  },
  {
   "cell_type": "code",
   "execution_count": 9,
   "metadata": {},
   "outputs": [],
   "source": [
    "agency_other = []\n",
    "for val in range(df.agency.nunique()):\n",
    "    if df.agency.value_counts()[val] < 1000:\n",
    "        agency_other.append(df.agency.value_counts().index[val])"
   ]
  },
  {
   "cell_type": "code",
   "execution_count": 10,
   "metadata": {},
   "outputs": [],
   "source": [
    "df.agency = df.agency.map(lambda x:\"other\" if x in agency_other else x)"
   ]
  },
  {
   "cell_type": "code",
   "execution_count": 11,
   "metadata": {},
   "outputs": [
    {
     "data": {
      "text/plain": [
       "EPX      26217\n",
       "C2B      10612\n",
       "CWT       6812\n",
       "JZI       4607\n",
       "other     4016\n",
       "Name: agency, dtype: int64"
      ]
     },
     "execution_count": 11,
     "metadata": {},
     "output_type": "execute_result"
    }
   ],
   "source": [
    "df.agency.value_counts()"
   ]
  },
  {
   "cell_type": "code",
   "execution_count": 12,
   "metadata": {},
   "outputs": [],
   "source": [
    "product_other = []\n",
    "for val in range(df.product_name.nunique()):\n",
    "    if df.product_name.value_counts()[val] < 850:\n",
    "        product_other.append(df.product_name.value_counts().index[val])"
   ]
  },
  {
   "cell_type": "code",
   "execution_count": 13,
   "metadata": {},
   "outputs": [],
   "source": [
    "df.product_name = df.product_name.map(lambda x: \"other\" if x in product_other else x)"
   ]
  },
  {
   "cell_type": "code",
   "execution_count": 14,
   "metadata": {},
   "outputs": [
    {
     "data": {
      "text/plain": [
       "Cancellation Plan                  13254\n",
       "2 way Comprehensive Plan           10555\n",
       "Rental Vehicle Excess Insurance     6812\n",
       "Bronze Plan                         4721\n",
       "Basic Plan                          4030\n",
       "other                               3328\n",
       "Silver Plan                         2861\n",
       "1 way Comprehensive Plan            2408\n",
       "Annual Silver Plan                  2348\n",
       "Value Plan                          1947\n",
       "Name: product_name, dtype: int64"
      ]
     },
     "execution_count": 14,
     "metadata": {},
     "output_type": "execute_result"
    }
   ],
   "source": [
    "df.product_name.value_counts()"
   ]
  },
  {
   "cell_type": "markdown",
   "metadata": {},
   "source": [
    "### The feature Destination is also a categorical column and had alot of categories not previous method didn't seem appropriate as the counts of the columns didn't drastically change. So \n",
    "### So the method used is \"Frequency encoding\", where the class is replaced with it's count."
   ]
  },
  {
   "cell_type": "code",
   "execution_count": 15,
   "metadata": {},
   "outputs": [],
   "source": [
    "dest_dict = df.destination.value_counts().to_dict()\n",
    "df.destination = df.destination.map(dest_dict)"
   ]
  },
  {
   "cell_type": "code",
   "execution_count": 16,
   "metadata": {},
   "outputs": [
    {
     "data": {
      "text/plain": [
       "<matplotlib.axes._subplots.AxesSubplot at 0x7fc07b8b3110>"
      ]
     },
     "execution_count": 16,
     "metadata": {},
     "output_type": "execute_result"
    },
    {
     "data": {
      "image/png": "[encoded data removed]",
      "text/plain": [
       "<Figure size 432x288 with 1 Axes>"
      ]
     },
     "metadata": {
      "needs_background": "light"
     },
     "output_type": "display_data"
    }
   ],
   "source": [
    "sns.distplot(df.destination)"
   ]
  },
  {
   "cell_type": "code",
   "execution_count": 17,
   "metadata": {},
   "outputs": [
    {
     "name": "stdout",
     "output_type": "stream",
     "text": [
      "<class 'pandas.core.frame.DataFrame'>\n",
      "Int64Index: 52264 entries, 0 to 52309\n",
      "Data columns (total 10 columns):\n",
      " #   Column                Non-Null Count  Dtype  \n",
      "---  ------                --------------  -----  \n",
      " 0   agency                52264 non-null  object \n",
      " 1   agency_type           52264 non-null  object \n",
      " 2   distribution_channel  52264 non-null  object \n",
      " 3   product_name          52264 non-null  object \n",
      " 4   duration              52264 non-null  int64  \n",
      " 5   destination           52264 non-null  int64  \n",
      " 6   net_sales             52264 non-null  float64\n",
      " 7   commision_(in_value)  52264 non-null  float64\n",
      " 8   age                   52264 non-null  int64  \n",
      " 9   claim                 52264 non-null  int64  \n",
      "dtypes: float64(2), int64(4), object(4)\n",
      "memory usage: 4.4+ MB\n"
     ]
    }
   ],
   "source": [
    "df.info()"
   ]
  },
  {
   "cell_type": "code",
   "execution_count": 18,
   "metadata": {},
   "outputs": [],
   "source": [
    "import sys\n",
    "sys.path.append(\"/home/harshal/greyatom/functions/\")\n",
    "#this is a function I wrote which given a dataset with all numeric columns will print classification\n",
    "#   report and precision and recall score for Logistic Regression, Random Forest, Decision Tree and Gradient \n",
    "#      Boosting classification\n",
    "from clas import clas"
   ]
  },
  {
   "cell_type": "code",
   "execution_count": 19,
   "metadata": {},
   "outputs": [],
   "source": [
    "#the function just takes the dataframe and sorts X,y so target_col label is used to sort y.\n",
    "df.rename(columns={\"claim\":\"target_col\"}, inplace=True)"
   ]
  },
  {
   "cell_type": "code",
   "execution_count": 20,
   "metadata": {},
   "outputs": [],
   "source": [
    "df = pd.get_dummies(df, drop_first=True)"
   ]
  },
  {
   "cell_type": "code",
   "execution_count": 21,
   "metadata": {
    "scrolled": true
   },
   "outputs": [
    {
     "name": "stderr",
     "output_type": "stream",
     "text": [
      "/home/harshal/anaconda3/envs/py37/lib/python3.7/site-packages/sklearn/linear_model/_logistic.py:940: ConvergenceWarning: lbfgs failed to converge (status=1):\n",
      "STOP: TOTAL NO. of ITERATIONS REACHED LIMIT.\n",
      "\n",
      "Increase the number of iterations (max_iter) or scale the data as shown in:\n",
      "    https://scikit-learn.org/stable/modules/preprocessing.html\n",
      "Please also refer to the documentation for alternative solver options:\n",
      "    https://scikit-learn.org/stable/modules/linear_model.html#logistic-regression\n",
      "  extra_warning_msg=_LOGISTIC_SOLVER_CONVERGENCE_MSG)\n"
     ]
    },
    {
     "name": "stdout",
     "output_type": "stream",
     "text": [
      " \n",
      "LogisticRegression\n",
      " \n",
      "              precision    recall  f1-score   support\n",
      "\n",
      "           0       0.86      0.97      0.91     13012\n",
      "           1       0.63      0.24      0.35      2668\n",
      "\n",
      "    accuracy                           0.85     15680\n",
      "   macro avg       0.74      0.60      0.63     15680\n",
      "weighted avg       0.82      0.85      0.82     15680\n",
      "\n",
      "--------------------------------------------------\n",
      " \n",
      "RandomForestClassifier\n",
      " \n",
      "              precision    recall  f1-score   support\n",
      "\n",
      "           0       0.86      0.98      0.91     13012\n",
      "           1       0.66      0.19      0.29      2668\n",
      "\n",
      "    accuracy                           0.85     15680\n",
      "   macro avg       0.76      0.58      0.60     15680\n",
      "weighted avg       0.82      0.85      0.81     15680\n",
      "\n",
      "--------------------------------------------------\n",
      " \n",
      "DecisionTreeClassifier\n",
      " \n",
      "              precision    recall  f1-score   support\n",
      "\n",
      "           0       0.88      0.95      0.91     13012\n",
      "           1       0.61      0.37      0.46      2668\n",
      "\n",
      "    accuracy                           0.85     15680\n",
      "   macro avg       0.75      0.66      0.69     15680\n",
      "weighted avg       0.83      0.85      0.84     15680\n",
      "\n",
      "--------------------------------------------------\n",
      " \n",
      "GradientBoostingClassifier\n",
      " \n",
      "              precision    recall  f1-score   support\n",
      "\n",
      "           0       0.89      0.96      0.92     13012\n",
      "           1       0.68      0.44      0.53      2668\n",
      "\n",
      "    accuracy                           0.87     15680\n",
      "   macro avg       0.78      0.70      0.73     15680\n",
      "weighted avg       0.86      0.87      0.86     15680\n",
      "\n",
      "--------------------------------------------------\n",
      " \n",
      "AdaBoostClassifier\n",
      " \n",
      "              precision    recall  f1-score   support\n",
      "\n",
      "           0       0.88      0.96      0.92     13012\n",
      "           1       0.62      0.34      0.44      2668\n",
      "\n",
      "    accuracy                           0.85     15680\n",
      "   macro avg       0.75      0.65      0.68     15680\n",
      "weighted avg       0.83      0.85      0.84     15680\n",
      "\n",
      "--------------------------------------------------\n",
      " \n",
      "XGBoostClassifier\n",
      " \n",
      "              precision    recall  f1-score   support\n",
      "\n",
      "           0       0.93      0.96      0.94     13012\n",
      "           1       0.76      0.63      0.68      2668\n",
      "\n",
      "    accuracy                           0.90     15680\n",
      "   macro avg       0.84      0.79      0.81     15680\n",
      "weighted avg       0.90      0.90      0.90     15680\n",
      "\n",
      "--------------------------------------------------\n"
     ]
    },
    {
     "data": {
      "text/html": [
       "<div>\n",
       "<style scoped>\n",
       "    .dataframe tbody tr th:only-of-type {\n",
       "        vertical-align: middle;\n",
       "    }\n",
       "\n",
       "    .dataframe tbody tr th {\n",
       "        vertical-align: top;\n",
       "    }\n",
       "\n",
       "    .dataframe thead th {\n",
       "        text-align: right;\n",
       "    }\n",
       "</style>\n",
       "<table border=\"1\" class=\"dataframe\">\n",
       "  <thead>\n",
       "    <tr style=\"text-align: right;\">\n",
       "      <th></th>\n",
       "      <th>LogisticRegression</th>\n",
       "      <th>RandomForestClassifier</th>\n",
       "      <th>DecisionTreeClassifier</th>\n",
       "      <th>GradientBoostingClassifier</th>\n",
       "      <th>AdaBoostClassifier</th>\n",
       "      <th>XGBoostClassifier</th>\n",
       "    </tr>\n",
       "  </thead>\n",
       "  <tbody>\n",
       "    <tr>\n",
       "      <th>precision</th>\n",
       "      <td>0.63</td>\n",
       "      <td>0.66</td>\n",
       "      <td>0.61</td>\n",
       "      <td>0.68</td>\n",
       "      <td>0.62</td>\n",
       "      <td>0.76</td>\n",
       "    </tr>\n",
       "    <tr>\n",
       "      <th>recall</th>\n",
       "      <td>0.24</td>\n",
       "      <td>0.19</td>\n",
       "      <td>0.37</td>\n",
       "      <td>0.44</td>\n",
       "      <td>0.34</td>\n",
       "      <td>0.63</td>\n",
       "    </tr>\n",
       "  </tbody>\n",
       "</table>\n",
       "</div>"
      ],
      "text/plain": [
       "           LogisticRegression  RandomForestClassifier  DecisionTreeClassifier  \\\n",
       "precision                0.63                    0.66                    0.61   \n",
       "recall                   0.24                    0.19                    0.37   \n",
       "\n",
       "           GradientBoostingClassifier  AdaBoostClassifier  XGBoostClassifier  \n",
       "precision                        0.68                0.62               0.76  \n",
       "recall                           0.44                0.34               0.63  "
      ]
     },
     "execution_count": 21,
     "metadata": {},
     "output_type": "execute_result"
    }
   ],
   "source": [
    "clas(df)"
   ]
  },
  {
   "cell_type": "markdown",
   "metadata": {},
   "source": [
    "### XGBoost Classifer is giving best results amoung the other models with precision score = 0.76 on raw dataset with outliers"
   ]
  },
  {
   "cell_type": "code",
   "execution_count": 22,
   "metadata": {},
   "outputs": [],
   "source": [
    "#making deep copy of dataset\n",
    "wo_outliers = df.copy()"
   ]
  },
  {
   "cell_type": "code",
   "execution_count": 23,
   "metadata": {},
   "outputs": [],
   "source": [
    "from outlier import winsor"
   ]
  },
  {
   "cell_type": "code",
   "execution_count": 24,
   "metadata": {},
   "outputs": [],
   "source": [
    "#removing outliers from numeric columns\n",
    "for col in num_col:\n",
    "    wo_outliers = winsor(wo_outliers,col)"
   ]
  },
  {
   "cell_type": "code",
   "execution_count": 25,
   "metadata": {},
   "outputs": [
    {
     "data": {
      "text/plain": [
       "(48662, 21)"
      ]
     },
     "execution_count": 25,
     "metadata": {},
     "output_type": "execute_result"
    }
   ],
   "source": [
    "#checking shape to see whether number of rows are reduced as outliers are removed\n",
    "wo_outliers.shape"
   ]
  },
  {
   "cell_type": "code",
   "execution_count": 26,
   "metadata": {
    "scrolled": true
   },
   "outputs": [
    {
     "name": "stdout",
     "output_type": "stream",
     "text": [
      " \n",
      "LogisticRegression\n",
      " \n",
      "              precision    recall  f1-score   support\n",
      "\n",
      "           0       0.87      0.98      0.92     12438\n",
      "           1       0.55      0.18      0.27      2161\n",
      "\n",
      "    accuracy                           0.86     14599\n",
      "   macro avg       0.71      0.58      0.59     14599\n",
      "weighted avg       0.83      0.86      0.82     14599\n",
      "\n",
      "--------------------------------------------------\n",
      " \n",
      "RandomForestClassifier\n",
      " \n",
      "              precision    recall  f1-score   support\n",
      "\n",
      "           0       0.86      0.99      0.92     12438\n",
      "           1       0.68      0.11      0.19      2161\n",
      "\n",
      "    accuracy                           0.86     14599\n",
      "   macro avg       0.77      0.55      0.56     14599\n",
      "weighted avg       0.84      0.86      0.81     14599\n",
      "\n",
      "--------------------------------------------------\n",
      " \n",
      "DecisionTreeClassifier\n",
      " \n",
      "              precision    recall  f1-score   support\n",
      "\n",
      "           0       0.89      0.96      0.93     12438\n",
      "           1       0.60      0.34      0.44      2161\n",
      "\n",
      "    accuracy                           0.87     14599\n",
      "   macro avg       0.75      0.65      0.68     14599\n",
      "weighted avg       0.85      0.87      0.85     14599\n",
      "\n",
      "--------------------------------------------------\n",
      " \n",
      "GradientBoostingClassifier\n",
      " \n",
      "              precision    recall  f1-score   support\n",
      "\n",
      "           0       0.91      0.96      0.93     12438\n",
      "           1       0.68      0.43      0.52      2161\n",
      "\n",
      "    accuracy                           0.89     14599\n",
      "   macro avg       0.79      0.70      0.73     14599\n",
      "weighted avg       0.87      0.89      0.87     14599\n",
      "\n",
      "--------------------------------------------------\n",
      " \n",
      "AdaBoostClassifier\n",
      " \n",
      "              precision    recall  f1-score   support\n",
      "\n",
      "           0       0.89      0.96      0.92     12438\n",
      "           1       0.59      0.31      0.41      2161\n",
      "\n",
      "    accuracy                           0.87     14599\n",
      "   macro avg       0.74      0.64      0.67     14599\n",
      "weighted avg       0.85      0.87      0.85     14599\n",
      "\n",
      "--------------------------------------------------\n",
      " \n",
      "XGBoostClassifier\n",
      " \n",
      "              precision    recall  f1-score   support\n",
      "\n",
      "           0       0.93      0.97      0.95     12438\n",
      "           1       0.78      0.61      0.69      2161\n",
      "\n",
      "    accuracy                           0.92     14599\n",
      "   macro avg       0.86      0.79      0.82     14599\n",
      "weighted avg       0.91      0.92      0.91     14599\n",
      "\n",
      "--------------------------------------------------\n"
     ]
    },
    {
     "data": {
      "text/html": [
       "<div>\n",
       "<style scoped>\n",
       "    .dataframe tbody tr th:only-of-type {\n",
       "        vertical-align: middle;\n",
       "    }\n",
       "\n",
       "    .dataframe tbody tr th {\n",
       "        vertical-align: top;\n",
       "    }\n",
       "\n",
       "    .dataframe thead th {\n",
       "        text-align: right;\n",
       "    }\n",
       "</style>\n",
       "<table border=\"1\" class=\"dataframe\">\n",
       "  <thead>\n",
       "    <tr style=\"text-align: right;\">\n",
       "      <th></th>\n",
       "      <th>LogisticRegression</th>\n",
       "      <th>RandomForestClassifier</th>\n",
       "      <th>DecisionTreeClassifier</th>\n",
       "      <th>GradientBoostingClassifier</th>\n",
       "      <th>AdaBoostClassifier</th>\n",
       "      <th>XGBoostClassifier</th>\n",
       "    </tr>\n",
       "  </thead>\n",
       "  <tbody>\n",
       "    <tr>\n",
       "      <th>precision</th>\n",
       "      <td>0.55</td>\n",
       "      <td>0.68</td>\n",
       "      <td>0.60</td>\n",
       "      <td>0.68</td>\n",
       "      <td>0.59</td>\n",
       "      <td>0.78</td>\n",
       "    </tr>\n",
       "    <tr>\n",
       "      <th>recall</th>\n",
       "      <td>0.18</td>\n",
       "      <td>0.11</td>\n",
       "      <td>0.34</td>\n",
       "      <td>0.43</td>\n",
       "      <td>0.31</td>\n",
       "      <td>0.61</td>\n",
       "    </tr>\n",
       "  </tbody>\n",
       "</table>\n",
       "</div>"
      ],
      "text/plain": [
       "           LogisticRegression  RandomForestClassifier  DecisionTreeClassifier  \\\n",
       "precision                0.55                    0.68                    0.60   \n",
       "recall                   0.18                    0.11                    0.34   \n",
       "\n",
       "           GradientBoostingClassifier  AdaBoostClassifier  XGBoostClassifier  \n",
       "precision                        0.68                0.59               0.78  \n",
       "recall                           0.43                0.31               0.61  "
      ]
     },
     "execution_count": 26,
     "metadata": {},
     "output_type": "execute_result"
    }
   ],
   "source": [
    "#validating on dataset after removal of outliers\n",
    "clas(wo_outliers)"
   ]
  },
  {
   "cell_type": "code",
   "execution_count": 27,
   "metadata": {},
   "outputs": [
    {
     "data": {
      "image/png": "[encoded data removed]",
      "text/plain": [
       "<Figure size 432x288 with 1 Axes>"
      ]
     },
     "metadata": {
      "needs_background": "light"
     },
     "output_type": "display_data"
    },
    {
     "data": {
      "image/png": "[encoded data removed]",
      "text/plain": [
       "<Figure size 432x288 with 1 Axes>"
      ]
     },
     "metadata": {
      "needs_background": "light"
     },
     "output_type": "display_data"
    },
    {
     "data": {
      "image/png": "[encoded data removed]",
      "text/plain": [
       "<Figure size 432x288 with 1 Axes>"
      ]
     },
     "metadata": {
      "needs_background": "light"
     },
     "output_type": "display_data"
    },
    {
     "data": {
      "image/png": "[encoded data removed]",
      "text/plain": [
       "<Figure size 432x288 with 1 Axes>"
      ]
     },
     "metadata": {
      "needs_background": "light"
     },
     "output_type": "display_data"
    }
   ],
   "source": [
    "for col in num_col:\n",
    "    sns.distplot(wo_outliers[col])\n",
    "    plt.show()"
   ]
  },
  {
   "cell_type": "markdown",
   "metadata": {},
   "source": [
    "### Random Oversampling with SMOTE"
   ]
  },
  {
   "cell_type": "code",
   "execution_count": 28,
   "metadata": {},
   "outputs": [],
   "source": [
    "from sklearn.model_selection import train_test_split\n",
    "from sklearn.metrics import precision_score\n",
    "from imblearn.over_sampling import SMOTE\n",
    "from xgboost import XGBClassifier"
   ]
  },
  {
   "cell_type": "code",
   "execution_count": 29,
   "metadata": {},
   "outputs": [],
   "source": [
    "sm=SMOTE(sampling_strategy=0.25,random_state=10)"
   ]
  },
  {
   "cell_type": "code",
   "execution_count": 30,
   "metadata": {},
   "outputs": [],
   "source": [
    "X = wo_outliers.drop(\"target_col\",axis=1)\n",
    "y = wo_outliers.target_col"
   ]
  },
  {
   "cell_type": "code",
   "execution_count": 31,
   "metadata": {},
   "outputs": [
    {
     "data": {
      "text/plain": [
       "0    84.922527\n",
       "1    15.077473\n",
       "Name: target_col, dtype: float64"
      ]
     },
     "execution_count": 31,
     "metadata": {},
     "output_type": "execute_result"
    }
   ],
   "source": [
    "y.value_counts(normalize=True)*100"
   ]
  },
  {
   "cell_type": "code",
   "execution_count": 33,
   "metadata": {},
   "outputs": [],
   "source": [
    "X_res, y_res = sm.fit_resample(X, y)"
   ]
  },
  {
   "cell_type": "code",
   "execution_count": 34,
   "metadata": {},
   "outputs": [],
   "source": [
    "X_train, X_test, y_train, y_test = train_test_split(X_res,y_res, test_size=0.3, random_state=0)"
   ]
  },
  {
   "cell_type": "code",
   "execution_count": 35,
   "metadata": {},
   "outputs": [],
   "source": [
    "xgbc_res = XGBClassifier(max_depth=4)"
   ]
  },
  {
   "cell_type": "code",
   "execution_count": 36,
   "metadata": {},
   "outputs": [],
   "source": [
    "xgbc_res.fit(X_train,y_train)\n",
    "yres_pred = xgbc_res.predict(X_test)"
   ]
  },
  {
   "cell_type": "code",
   "execution_count": 37,
   "metadata": {},
   "outputs": [
    {
     "name": "stdout",
     "output_type": "stream",
     "text": [
      "Precision score for resampled data = 0.8\n"
     ]
    }
   ],
   "source": [
    "print(f\"Precision score for resampled data = {np.round(precision_score(y_test,yres_pred),3)}\")"
   ]
  },
  {
   "cell_type": "code",
   "execution_count": 38,
   "metadata": {},
   "outputs": [
    {
     "name": "stdout",
     "output_type": "stream",
     "text": [
      "[[11844   554]\n",
      " [  880  2219]]\n"
     ]
    }
   ],
   "source": [
    "from sklearn.metrics import confusion_matrix\n",
    "print(confusion_matrix(y_test, yres_pred))"
   ]
  },
  {
   "cell_type": "markdown",
   "metadata": {},
   "source": [
    "### Testing"
   ]
  },
  {
   "cell_type": "code",
   "execution_count": 39,
   "metadata": {},
   "outputs": [],
   "source": [
    "#reading test data\n",
    "test = pd.read_csv(\"test.csv\")"
   ]
  },
  {
   "cell_type": "code",
   "execution_count": 40,
   "metadata": {},
   "outputs": [
    {
     "data": {
      "text/html": [
       "<div>\n",
       "<style scoped>\n",
       "    .dataframe tbody tr th:only-of-type {\n",
       "        vertical-align: middle;\n",
       "    }\n",
       "\n",
       "    .dataframe tbody tr th {\n",
       "        vertical-align: top;\n",
       "    }\n",
       "\n",
       "    .dataframe thead th {\n",
       "        text-align: right;\n",
       "    }\n",
       "</style>\n",
       "<table border=\"1\" class=\"dataframe\">\n",
       "  <thead>\n",
       "    <tr style=\"text-align: right;\">\n",
       "      <th></th>\n",
       "      <th>ID</th>\n",
       "      <th>Agency</th>\n",
       "      <th>Agency Type</th>\n",
       "      <th>Distribution Channel</th>\n",
       "      <th>Product Name</th>\n",
       "      <th>Duration</th>\n",
       "      <th>Destination</th>\n",
       "      <th>Net Sales</th>\n",
       "      <th>Commision (in value)</th>\n",
       "      <th>Age</th>\n",
       "    </tr>\n",
       "  </thead>\n",
       "  <tbody>\n",
       "    <tr>\n",
       "      <th>0</th>\n",
       "      <td>17631</td>\n",
       "      <td>EPX</td>\n",
       "      <td>Travel Agency</td>\n",
       "      <td>Online</td>\n",
       "      <td>Cancellation Plan</td>\n",
       "      <td>192</td>\n",
       "      <td>HONG KONG</td>\n",
       "      <td>18.0</td>\n",
       "      <td>0.00</td>\n",
       "      <td>36</td>\n",
       "    </tr>\n",
       "    <tr>\n",
       "      <th>1</th>\n",
       "      <td>15064</td>\n",
       "      <td>EPX</td>\n",
       "      <td>Travel Agency</td>\n",
       "      <td>Online</td>\n",
       "      <td>1 way Comprehensive Plan</td>\n",
       "      <td>2</td>\n",
       "      <td>SINGAPORE</td>\n",
       "      <td>20.0</td>\n",
       "      <td>0.00</td>\n",
       "      <td>36</td>\n",
       "    </tr>\n",
       "    <tr>\n",
       "      <th>2</th>\n",
       "      <td>14139</td>\n",
       "      <td>C2B</td>\n",
       "      <td>Airlines</td>\n",
       "      <td>Online</td>\n",
       "      <td>Bronze Plan</td>\n",
       "      <td>13</td>\n",
       "      <td>SINGAPORE</td>\n",
       "      <td>13.5</td>\n",
       "      <td>3.38</td>\n",
       "      <td>24</td>\n",
       "    </tr>\n",
       "    <tr>\n",
       "      <th>3</th>\n",
       "      <td>19754</td>\n",
       "      <td>EPX</td>\n",
       "      <td>Travel Agency</td>\n",
       "      <td>Online</td>\n",
       "      <td>2 way Comprehensive Plan</td>\n",
       "      <td>133</td>\n",
       "      <td>TAIWAN, PROVINCE OF CHINA</td>\n",
       "      <td>41.0</td>\n",
       "      <td>0.00</td>\n",
       "      <td>36</td>\n",
       "    </tr>\n",
       "    <tr>\n",
       "      <th>4</th>\n",
       "      <td>16439</td>\n",
       "      <td>C2B</td>\n",
       "      <td>Airlines</td>\n",
       "      <td>Online</td>\n",
       "      <td>Silver Plan</td>\n",
       "      <td>2</td>\n",
       "      <td>SINGAPORE</td>\n",
       "      <td>30.0</td>\n",
       "      <td>7.50</td>\n",
       "      <td>32</td>\n",
       "    </tr>\n",
       "  </tbody>\n",
       "</table>\n",
       "</div>"
      ],
      "text/plain": [
       "      ID Agency    Agency Type Distribution Channel              Product Name  \\\n",
       "0  17631    EPX  Travel Agency               Online         Cancellation Plan   \n",
       "1  15064    EPX  Travel Agency               Online  1 way Comprehensive Plan   \n",
       "2  14139    C2B       Airlines               Online               Bronze Plan   \n",
       "3  19754    EPX  Travel Agency               Online  2 way Comprehensive Plan   \n",
       "4  16439    C2B       Airlines               Online               Silver Plan   \n",
       "\n",
       "   Duration                Destination  Net Sales  Commision (in value)  Age  \n",
       "0       192                  HONG KONG       18.0                  0.00   36  \n",
       "1         2                  SINGAPORE       20.0                  0.00   36  \n",
       "2        13                  SINGAPORE       13.5                  3.38   24  \n",
       "3       133  TAIWAN, PROVINCE OF CHINA       41.0                  0.00   36  \n",
       "4         2                  SINGAPORE       30.0                  7.50   32  "
      ]
     },
     "execution_count": 40,
     "metadata": {},
     "output_type": "execute_result"
    }
   ],
   "source": [
    "test.head()"
   ]
  },
  {
   "cell_type": "code",
   "execution_count": 41,
   "metadata": {},
   "outputs": [],
   "source": [
    "test.columns = test.columns.map(lower)\n",
    "test.columns = test.columns.map(under)"
   ]
  },
  {
   "cell_type": "code",
   "execution_count": 42,
   "metadata": {},
   "outputs": [],
   "source": [
    "Id = test.id\n",
    "test.drop(\"id\", axis=1, inplace=True)"
   ]
  },
  {
   "cell_type": "code",
   "execution_count": 43,
   "metadata": {},
   "outputs": [],
   "source": [
    "cat_col = [\"agency\",\"agency_type\",\"destination\",\"distribution_channel\",\"product_name\",\"destination\",\"claim\"]\n",
    "num_col = [col for col in test.columns if col not in cat_col]"
   ]
  },
  {
   "cell_type": "code",
   "execution_count": 44,
   "metadata": {},
   "outputs": [],
   "source": [
    "agency_other = []\n",
    "for val in range(test.agency.nunique()):\n",
    "    if test.agency.value_counts()[val] < 1000:\n",
    "        agency_other.append(test.agency.value_counts().index[val])\n",
    "test.agency = test.agency.map(lambda x:\"other\" if x in agency_other else x)"
   ]
  },
  {
   "cell_type": "code",
   "execution_count": 45,
   "metadata": {},
   "outputs": [],
   "source": [
    "product_other = []\n",
    "for val in range(test.product_name.nunique()):\n",
    "    if test.product_name.value_counts()[val] < 850:\n",
    "        product_other.append(test.product_name.value_counts().index[val])\n",
    "test.product_name = test.product_name.map(lambda x: \"other\" if x in product_other else x)"
   ]
  },
  {
   "cell_type": "code",
   "execution_count": 46,
   "metadata": {},
   "outputs": [],
   "source": [
    "dest_dict = test.destination.value_counts().to_dict()\n",
    "test.destination = test.destination.map(dest_dict)"
   ]
  },
  {
   "cell_type": "code",
   "execution_count": 47,
   "metadata": {},
   "outputs": [],
   "source": [
    "test = pd.get_dummies(test, drop_first=True)"
   ]
  },
  {
   "cell_type": "code",
   "execution_count": 49,
   "metadata": {},
   "outputs": [],
   "source": [
    "pred = xgbc_res.predict(test)"
   ]
  },
  {
   "cell_type": "code",
   "execution_count": 50,
   "metadata": {},
   "outputs": [],
   "source": [
    "output = pd.DataFrame(data={\"ID\":Id, \"Claim\":pred})"
   ]
  },
  {
   "cell_type": "code",
   "execution_count": 51,
   "metadata": {},
   "outputs": [],
   "source": [
    "output.set_index(\"ID\", inplace=True)"
   ]
  },
  {
   "cell_type": "code",
   "execution_count": 52,
   "metadata": {},
   "outputs": [
    {
     "data": {
      "text/html": [
       "<div>\n",
       "<style scoped>\n",
       "    .dataframe tbody tr th:only-of-type {\n",
       "        vertical-align: middle;\n",
       "    }\n",
       "\n",
       "    .dataframe tbody tr th {\n",
       "        vertical-align: top;\n",
       "    }\n",
       "\n",
       "    .dataframe thead th {\n",
       "        text-align: right;\n",
       "    }\n",
       "</style>\n",
       "<table border=\"1\" class=\"dataframe\">\n",
       "  <thead>\n",
       "    <tr style=\"text-align: right;\">\n",
       "      <th></th>\n",
       "      <th>Claim</th>\n",
       "    </tr>\n",
       "    <tr>\n",
       "      <th>ID</th>\n",
       "      <th></th>\n",
       "    </tr>\n",
       "  </thead>\n",
       "  <tbody>\n",
       "    <tr>\n",
       "      <th>17631</th>\n",
       "      <td>0</td>\n",
       "    </tr>\n",
       "    <tr>\n",
       "      <th>15064</th>\n",
       "      <td>0</td>\n",
       "    </tr>\n",
       "    <tr>\n",
       "      <th>14139</th>\n",
       "      <td>0</td>\n",
       "    </tr>\n",
       "    <tr>\n",
       "      <th>19754</th>\n",
       "      <td>0</td>\n",
       "    </tr>\n",
       "    <tr>\n",
       "      <th>16439</th>\n",
       "      <td>0</td>\n",
       "    </tr>\n",
       "    <tr>\n",
       "      <th>...</th>\n",
       "      <td>...</td>\n",
       "    </tr>\n",
       "    <tr>\n",
       "      <th>13227</th>\n",
       "      <td>0</td>\n",
       "    </tr>\n",
       "    <tr>\n",
       "      <th>12767</th>\n",
       "      <td>0</td>\n",
       "    </tr>\n",
       "    <tr>\n",
       "      <th>13638</th>\n",
       "      <td>0</td>\n",
       "    </tr>\n",
       "    <tr>\n",
       "      <th>14859</th>\n",
       "      <td>0</td>\n",
       "    </tr>\n",
       "    <tr>\n",
       "      <th>15299</th>\n",
       "      <td>0</td>\n",
       "    </tr>\n",
       "  </tbody>\n",
       "</table>\n",
       "<p>22421 rows × 1 columns</p>\n",
       "</div>"
      ],
      "text/plain": [
       "       Claim\n",
       "ID          \n",
       "17631      0\n",
       "15064      0\n",
       "14139      0\n",
       "19754      0\n",
       "16439      0\n",
       "...      ...\n",
       "13227      0\n",
       "12767      0\n",
       "13638      0\n",
       "14859      0\n",
       "15299      0\n",
       "\n",
       "[22421 rows x 1 columns]"
      ]
     },
     "execution_count": 52,
     "metadata": {},
     "output_type": "execute_result"
    }
   ],
   "source": [
    "output"
   ]
  },
  {
   "cell_type": "code",
   "execution_count": 53,
   "metadata": {},
   "outputs": [],
   "source": [
    "output.to_csv(\"submission_win.csv\")"
   ]
  },
  {
   "cell_type": "code",
   "execution_count": null,
   "metadata": {},
   "outputs": [],
   "source": []
  }
 ],
 "metadata": {
  "kernelspec": {
   "display_name": "Python 3",
   "language": "python",
   "name": "python3"
  },
  "language_info": {
   "codemirror_mode": {
    "name": "ipython",
    "version": 3
   },
   "file_extension": ".py",
   "mimetype": "text/x-python",
   "name": "python",
   "nbconvert_exporter": "python",
   "pygments_lexer": "ipython3",
   "version": "3.7.3"
  }
 },
 "nbformat": 4,
 "nbformat_minor": 4
}
